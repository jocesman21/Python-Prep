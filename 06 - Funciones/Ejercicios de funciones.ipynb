{
 "cells": [
  {
   "attachments": {},
   "cell_type": "markdown",
   "metadata": {},
   "source": [
    "1) Crear una función que reciba un número como parámetro y devuelva si True si es primo y False si no lo es"
   ]
  },
  {
   "cell_type": "code",
   "execution_count": 10,
   "metadata": {},
   "outputs": [
    {
     "data": {
      "text/plain": [
       "False"
      ]
     },
     "execution_count": 10,
     "metadata": {},
     "output_type": "execute_result"
    }
   ],
   "source": [
    "def es_primo(numero):\n",
    "    primo = True\n",
    "    for i in range(2,numero):\n",
    "        if (numero % i==0):\n",
    "            primo=False\n",
    "            break\n",
    "    return primo\n",
    "\n",
    "es_primo(4)"
   ]
  },
  {
   "attachments": {},
   "cell_type": "markdown",
   "metadata": {},
   "source": [
    "2) Utilizando la función del punto 1, realizar otra función que reciba de parámetro una lista de números y devuelva sólo aquellos que son primos en otra lista"
   ]
  },
  {
   "cell_type": "code",
   "execution_count": 30,
   "metadata": {},
   "outputs": [
    {
     "name": "stdout",
     "output_type": "stream",
     "text": [
      "[2, 3, 5, 7, 11, 13, 17, 19, 23, 29, 31, 37, 41, 43, 47, 53, 59, 61, 67, 71, 73, 79, 83, 89, 97, 101, 103, 107, 109, 113, 127, 131, 137, 139, 149, 151, 157, 163, 167, 173, 179, 181, 191, 193, 197, 199]\n"
     ]
    }
   ],
   "source": [
    "nums= [2, 3, 5, 7, 11, 13, 17, 19, 23, 29, 31, 37, 41, 43, 47, 53, 59, 61, 67, 71, 73, 79, 83, 89, 97, 101, 103, \n",
    "107, 109, 113, 127, 131, 137, 139, 149, 151, 157, 163, 167, 173, 179, 181, 191, 193, 197, 199]\n",
    "nums2=[]\n",
    "for i in nums:\n",
    "    if (es_primo(i)):\n",
    "        nums2.append(i)\n",
    "print (nums2)"
   ]
  },
  {
   "attachments": {},
   "cell_type": "markdown",
   "metadata": {},
   "source": [
    "3) Crear una función que al recibir una lista de números, devuelva el que más se repite y cuántas veces lo hace.\n",
    "Si hay más de un \"más repetido\", que devuelva cualquiera"
   ]
  },
  {
   "cell_type": "code",
   "execution_count": 92,
   "metadata": {},
   "outputs": [
    {
     "name": "stdout",
     "output_type": "stream",
     "text": [
      "El numero mas repetido es el: 4\n"
     ]
    }
   ],
   "source": [
    "def repetidos(listarepetidos, mas_o_menos= 1):\n",
    "    masrepetido = 0\n",
    "    for i in listarepetidos:\n",
    "        num4 = listarepetidos.count(i)\n",
    "        if (mas_o_menos == 1):\n",
    "            if (listarepetidos.count(masrepetido) < num4):\n",
    "                masrepetido = i\n",
    "        else:\n",
    "            if (listarepetidos.count(masrepetido) > num4):\n",
    "                masrepetido = i\n",
    "    return masrepetido\n",
    "\n",
    "\n",
    "numrep =[7,1,0,0,0,3,1,1,1,1,14,4,4,4,4,4,4,4,4,4,4,1,1,1,1,2,7,7,7,7]\n",
    "print (f'El numero mas repetido es el: {repetidos(numrep)}')"
   ]
  },
  {
   "attachments": {},
   "cell_type": "markdown",
   "metadata": {},
   "source": [
    "4) A la función del punto 3, agregar un parámetro más, que permita elegir si se requiere el menor o el mayor de los mas repetidos.\n"
   ]
  },
  {
   "cell_type": "code",
   "execution_count": 117,
   "metadata": {},
   "outputs": [
    {
     "name": "stdout",
     "output_type": "stream",
     "text": [
      "El numero que menos se repite es el: 3\n"
     ]
    }
   ],
   "source": [
    "numrep =[7,1,0,0,0,3,1,14,4,4,4,4,4,4,4,4,4,4,1,1,1,1,2,7,7,7,7]\n",
    "valor = int(input('De la lista de números - Digite 1, si quiere mostrar el mas se repite. Digite 2, si quiere mostrar el que menos se repite: '))\n",
    "if (valor == 1):\n",
    "    print (f'El numero que mas se repite es el: {repetidos(numrep, valor)}')\n",
    "else:\n",
    "    print (f'El numero que menos se repite es el: {repetidos(numrep, valor)}')"
   ]
  },
  {
   "attachments": {},
   "cell_type": "markdown",
   "metadata": {},
   "source": [
    "5) Crear una función que convierta entre grados Celsius, Farenheit y Kelvin<br>\n",
    "Fórmula 1\t: (°C × 9/5) + 32 = °F<br>\n",
    "Fórmula 2\t: °C + 273.15 = °K<br>\n",
    "Debe recibir 3 parámetros: el valor, la medida de orígen y la medida de destino"
   ]
  },
  {
   "cell_type": "code",
   "execution_count": 146,
   "metadata": {},
   "outputs": [
    {
     "name": "stdout",
     "output_type": "stream",
     "text": [
      "120 grados K° es equivalentes a -243.66999999999996 grados F°\n"
     ]
    }
   ],
   "source": [
    "def conversion(valor, grad1, grad2):\n",
    "    if (grad1 != grad2):\n",
    "        if (grad1 == 'C'):\n",
    "            if (grad2 == 'K'):\n",
    "                valor += 273.15\n",
    "            else:\n",
    "                valor = (valor * 9 / 5) +32\n",
    "        if (grad1 == 'K'):\n",
    "            valor -= 273.15\n",
    "            if (grad2 == 'F'):\n",
    "                valor = (valor * 9 / 5) +32\n",
    "        if (grad1 == 'F'):\n",
    "            valor = 5/9*(valor-32)\n",
    "            if (grad2 == 'K'):\n",
    "                valor = valor + 273.15\n",
    "                \n",
    "    return valor\n",
    "\n",
    "valor = 120\n",
    "grad1 = 'K'\n",
    "grad2 = 'F'\n",
    "print (f'{valor} grados {grad1}° es equivalentes a {conversion(valor,grad1,grad2)} grados {grad2}°')"
   ]
  },
  {
   "attachments": {},
   "cell_type": "markdown",
   "metadata": {},
   "source": [
    "6) Iterando una lista con los tres valores posibles de temperatura que recibe la función del punto 5, hacer un print para cada combinación de los mismos:"
   ]
  },
  {
   "cell_type": "code",
   "execution_count": 165,
   "metadata": {},
   "outputs": [
    {
     "name": "stdout",
     "output_type": "stream",
     "text": [
      "1 C° equivalen a 1 C°\n",
      "1 C° equivalen a 33.8 F°\n",
      "1 C° equivalen a 274.15 K°\n",
      "1 F° equivalen a -17.22 C°\n",
      "1 F° equivalen a 1 F°\n",
      "1 F° equivalen a 255.93 K°\n",
      "1 K° equivalen a -272.15 C°\n",
      "1 K° equivalen a -457.87 F°\n",
      "1 K° equivalen a 1 K°\n"
     ]
    }
   ],
   "source": [
    "grados = ['C', 'F', 'K']\n",
    "valor = 1\n",
    "for i in grados:\n",
    "    for j in grados:\n",
    "        print (f'{valor} {i}° equivalen a {round(conversion(valor,i,j),2)} {j}°')"
   ]
  },
  {
   "attachments": {},
   "cell_type": "markdown",
   "metadata": {},
   "source": [
    "7) Armar una función que devuelva el factorial de un número. Tener en cuenta que el usuario puede equivocarse y enviar de parámetro un número no entero o negativo\n"
   ]
  },
  {
   "cell_type": "code",
   "execution_count": 206,
   "metadata": {},
   "outputs": [
    {
     "name": "stdout",
     "output_type": "stream",
     "text": [
      "3628800\n"
     ]
    }
   ],
   "source": [
    "def factorial (num):\n",
    "    if (num >= 0):\n",
    "        fact = 1\n",
    "        for i in range (1,num+1):\n",
    "            fact = fact * i\n",
    "        return fact\n",
    "    else:\n",
    "        return ('No es un numero entero positivo')\n",
    "\n",
    "\n",
    "numero = 10\n",
    "print (factorial(numero))"
   ]
  },
  {
   "cell_type": "code",
   "execution_count": 213,
   "metadata": {},
   "outputs": [
    {
     "name": "stdout",
     "output_type": "stream",
     "text": [
      "3628800\n"
     ]
    }
   ],
   "source": [
    "def factorial2 (num):\n",
    "    if (type(num) == int and num >= 0):\n",
    "        fact = 1\n",
    "        for i in range(1,num+1):\n",
    "            fact *= i\n",
    "    else:    \n",
    "        return('EL numero debe ser entero positivo y no pueden contener letras')\n",
    "\n",
    "    return fact\n",
    "\n",
    "numero = 10\n",
    "print (factorial2(numero))"
   ]
  }
 ],
 "metadata": {
  "kernelspec": {
   "display_name": "Python 3",
   "language": "python",
   "name": "python3"
  },
  "language_info": {
   "codemirror_mode": {
    "name": "ipython",
    "version": 3
   },
   "file_extension": ".py",
   "mimetype": "text/x-python",
   "name": "python",
   "nbconvert_exporter": "python",
   "pygments_lexer": "ipython3",
   "version": "3.11.0"
  },
  "orig_nbformat": 4,
  "vscode": {
   "interpreter": {
    "hash": "0930d1f70fa6c79e4fceff05864c35c387058b894932fbf141f7c0a5df4dfe27"
   }
  }
 },
 "nbformat": 4,
 "nbformat_minor": 2
}
