{
 "cells": [
  {
   "attachments": {},
   "cell_type": "markdown",
   "metadata": {},
   "source": [
    "1) Crear la clase vehículo que contenga los atributos:<br>\n",
    "Color<br>\n",
    "Si es moto, auto, camioneta ó camión<br>\n",
    "Cilindrada del motor\n",
    "\n",
    "2) A la clase Vehiculo creada en el punto 1, agregar los siguientes métodos:<br>\n",
    "Acelerar<br>\n",
    "Frenar<br>\n",
    "Doblar<br>\n",
    "\n",
    "3) Instanciar 3 objetos de la clase vehículo y ejecutar sus métodos, probar luego el resultado\n",
    "\n",
    "4) Agregar a la clase Vehiculo, un método que muestre su estado, es decir, a que velocidad se encuentra y su dirección. Y otro método que muestre color, tipo y cilindrada"
   ]
  },
  {
   "cell_type": "code",
   "execution_count": 16,
   "metadata": {},
   "outputs": [
    {
     "name": "stdout",
     "output_type": "stream",
     "text": [
      "Rojo\n",
      "Motocicleta\n",
      "1500\n",
      "Esto es una prueba de aceleramiento del vehículo Camión a 30 km/h, y tiene un color Azul\n",
      "Esto es una prueba de aceleramiento del vehículo Motocicleta a 30 km/h, y tiene un color Negro\n",
      "Prueba de frenado del vehiculo: Camioneta\n",
      "Prueba de doblar las llantas\n"
     ]
    }
   ],
   "source": [
    "class vehiculo:\n",
    "    '''\n",
    "    En esta clase se crean los vehículos\n",
    "    ''' \n",
    "\n",
    "    def __init__(self, color, tipo, cilindraje):\n",
    "        self.color = color\n",
    "        self.tipo = tipo\n",
    "        self.cilindraje = cilindraje\n",
    "\n",
    "    def acelerar(self,vel):\n",
    "        print (f'Esto es una prueba de aceleramiento del vehículo {self.tipo} a {vel} km/h, y tiene un color {self.color}')\n",
    "\n",
    "    def frenar(self):\n",
    "        print (f'Prueba de frenado del vehiculo: {self.tipo}')\n",
    "\n",
    "    def doblar(self):\n",
    "        print ('Prueba de doblar las llantas')    \n",
    "\n",
    "\n",
    "veh1 = vehiculo('Rojo', 'Camioneta', 2500)\n",
    "print (veh1.color)\n",
    "veh2 = vehiculo('Negro', 'Motocicleta', 250)\n",
    "print (veh2.tipo)\n",
    "veh3 = vehiculo('Azul','Camión', 1500)\n",
    "print (veh3.cilindraje)\n",
    "\n",
    "veh3.acelerar(30)\n",
    "veh2.acelerar(30)\n",
    "veh1.frenar()\n",
    "veh2.doblar()\n",
    "\n"
   ]
  },
  {
   "attachments": {},
   "cell_type": "markdown",
   "metadata": {},
   "source": [
    "5) Crear una clase que permita utilizar las funciones creadas en la práctica del módulo 6<br>\n",
    "Verificar Primo<br>\n",
    "Valor modal<br>\n",
    "Conversión grados<br>\n",
    "Factorial<br>\n",
    "\n",
    "6) Probar las funciones incorporadas en la clase del punto 5\n",
    "\n",
    "7) Es necesario que la clase creada en el punto 5 contenga una lista, sobre la cual se aplquen las funciones incorporadas\n"
   ]
  },
  {
   "cell_type": "code",
   "execution_count": 25,
   "metadata": {},
   "outputs": [],
   "source": [
    "class funciones_matematicas:\n",
    "    ''' \n",
    "     Este usará las funciones de la práctica del módulo 6\n",
    "    '''\n",
    "\n",
    "    def __init__(self):\n",
    "        pass\n",
    "\n",
    "    def es_primo(self, numero):\n",
    "        primo = True\n",
    "        for i in range(2,numero):\n",
    "            if (numero % i==0):\n",
    "                primo=False\n",
    "            break\n",
    "        return primo\n",
    "\n",
    "    def repetidos(self, listarepetidos, mas_o_menos):\n",
    "        repetido = listarepetidos[0]\n",
    "        veces = 0\n",
    "        for i in listarepetidos:\n",
    "            num4 = listarepetidos.count(i)\n",
    "            if (mas_o_menos == 1):\n",
    "                if (listarepetidos.count(repetido) < num4):\n",
    "                    repetido = i\n",
    "                    veces = listarepetidos.count(i)\n",
    "            else:\n",
    "                if (listarepetidos.count(repetido) > num4):\n",
    "                    repetido = i\n",
    "                    veces= listarepetidos.count(i)\n",
    "        return repetido, veces\n",
    "\n",
    "    def conversion(self, valor, grad1, grad2):\n",
    "        if (grad1 != grad2):\n",
    "            if (grad1 == 'C'):\n",
    "                if (grad2 == 'K'):\n",
    "                    valor += 273.15\n",
    "                else:\n",
    "                    valor = (valor * 9 / 5) +32\n",
    "            if (grad1 == 'K'):\n",
    "                valor -= 273.15\n",
    "                if (grad2 == 'F'):\n",
    "                    valor = (valor * 9 / 5) +32\n",
    "            if (grad1 == 'F'):\n",
    "                valor = 5/9*(valor-32)\n",
    "                if (grad2 == 'K'):\n",
    "                    valor = valor + 273.15\n",
    "        return valor\n",
    "    \n",
    "    def factorial (self, num):\n",
    "        if (num >= 0):\n",
    "            fact = 1\n",
    "            for i in range (1,num+1):\n",
    "                fact = fact * i\n",
    "            return fact\n",
    "        else:\n",
    "            return ('No es un numero entero positivo')\n",
    "\n",
    "valores = funciones_matematicas()\n",
    "\n",
    "\n"
   ]
  },
  {
   "cell_type": "code",
   "execution_count": 34,
   "metadata": {},
   "outputs": [
    {
     "data": {
      "text/plain": [
       "True"
      ]
     },
     "execution_count": 34,
     "metadata": {},
     "output_type": "execute_result"
    }
   ],
   "source": [
    "valores.es_primo(11)\n"
   ]
  },
  {
   "cell_type": "code",
   "execution_count": 33,
   "metadata": {},
   "outputs": [
    {
     "data": {
      "text/plain": [
       "False"
      ]
     },
     "execution_count": 33,
     "metadata": {},
     "output_type": "execute_result"
    }
   ],
   "source": [
    "funciones_matematicas().es_primo(10)"
   ]
  },
  {
   "cell_type": "code",
   "execution_count": 29,
   "metadata": {},
   "outputs": [
    {
     "data": {
      "text/plain": [
       "33.8"
      ]
     },
     "execution_count": 29,
     "metadata": {},
     "output_type": "execute_result"
    }
   ],
   "source": [
    "valor = 1\n",
    "grad1 = 'C'\n",
    "grad2 = 'F'\n",
    "valores.conversion(valor, grad1,grad2)"
   ]
  },
  {
   "cell_type": "code",
   "execution_count": 31,
   "metadata": {},
   "outputs": [
    {
     "data": {
      "text/plain": [
       "720"
      ]
     },
     "execution_count": 31,
     "metadata": {},
     "output_type": "execute_result"
    }
   ],
   "source": [
    "numero = 6\n",
    "valores.factorial(numero)"
   ]
  },
  {
   "attachments": {},
   "cell_type": "markdown",
   "metadata": {},
   "source": [
    "\n",
    "8) Crear un archivo .py aparte y ubicar allí la clase generada en el punto anterior. Luego realizar \n",
    "la importación del módulo y probar alguna de sus funciones"
   ]
  },
  {
   "cell_type": "code",
   "execution_count": 56,
   "metadata": {},
   "outputs": [
    {
     "ename": "AttributeError",
     "evalue": "module 'punto8' has no attribute 'val'",
     "output_type": "error",
     "traceback": [
      "\u001b[1;31m---------------------------------------------------------------------------\u001b[0m",
      "\u001b[1;31mAttributeError\u001b[0m                            Traceback (most recent call last)",
      "Cell \u001b[1;32mIn [56], line 2\u001b[0m\n\u001b[0;32m      1\u001b[0m \u001b[39mimport\u001b[39;00m \u001b[39mpunto8\u001b[39;00m\n\u001b[1;32m----> 2\u001b[0m \u001b[39mprint\u001b[39m (punto8\u001b[39m.\u001b[39;49mval\u001b[39m.\u001b[39mes_primo(\u001b[39m9\u001b[39m))\n\u001b[0;32m      3\u001b[0m \u001b[39mprint\u001b[39m (punto8\u001b[39m.\u001b[39mvalores\u001b[39m.\u001b[39mconversion(\u001b[39m9\u001b[39m,\u001b[39m'\u001b[39m\u001b[39mC\u001b[39m\u001b[39m'\u001b[39m,\u001b[39m'\u001b[39m\u001b[39mC\u001b[39m\u001b[39m'\u001b[39m))\n\u001b[0;32m      4\u001b[0m \u001b[39mprint\u001b[39m (punto8\u001b[39m.\u001b[39mvalores\u001b[39m.\u001b[39mrepetidos([\u001b[39m1\u001b[39m,\u001b[39m2\u001b[39m,\u001b[39m3\u001b[39m,\u001b[39m2\u001b[39m,\u001b[39m3\u001b[39m,\u001b[39m5\u001b[39m,\u001b[39m4\u001b[39m,\u001b[39m5\u001b[39m,\u001b[39m5\u001b[39m,\u001b[39m5\u001b[39m,\u001b[39m5\u001b[39m,\u001b[39m5\u001b[39m],\u001b[39m1\u001b[39m))\n",
      "\u001b[1;31mAttributeError\u001b[0m: module 'punto8' has no attribute 'val'"
     ]
    }
   ],
   "source": [
    "import punto8\n",
    "print (punto8.val.es_primo(9))\n",
    "print (punto8.valores.conversion(9,'C','C'))\n",
    "print (punto8.valores.repetidos([1,2,3,2,3,5,4,5,5,5,5,5],1))"
   ]
  }
 ],
 "metadata": {
  "kernelspec": {
   "display_name": "Python 3",
   "language": "python",
   "name": "python3"
  },
  "language_info": {
   "codemirror_mode": {
    "name": "ipython",
    "version": 3
   },
   "file_extension": ".py",
   "mimetype": "text/x-python",
   "name": "python",
   "nbconvert_exporter": "python",
   "pygments_lexer": "ipython3",
   "version": "3.11.0"
  },
  "orig_nbformat": 4,
  "vscode": {
   "interpreter": {
    "hash": "0930d1f70fa6c79e4fceff05864c35c387058b894932fbf141f7c0a5df4dfe27"
   }
  }
 },
 "nbformat": 4,
 "nbformat_minor": 2
}
