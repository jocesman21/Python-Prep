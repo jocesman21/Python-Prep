{
 "cells": [
  {
   "cell_type": "markdown",
   "metadata": {},
   "source": [
    "1) Crear una variable que contenga un elemento del conjunto de números enteros y luego imprimir por pantalla si es mayor o menor a cero"
   ]
  },
  {
   "cell_type": "code",
   "execution_count": 3,
   "metadata": {},
   "outputs": [
    {
     "name": "stdout",
     "output_type": "stream",
     "text": [
      "-5\n"
     ]
    }
   ],
   "source": [
    "num = -5\n",
    "if (num > 0 or num < 0):\n",
    "    print (num)"
   ]
  },
  {
   "cell_type": "markdown",
   "metadata": {},
   "source": [
    "2) Crear dos variables y un condicional que informe si son del mismo tipo de dato"
   ]
  },
  {
   "cell_type": "code",
   "execution_count": 1,
   "metadata": {},
   "outputs": [
    {
     "name": "stdout",
     "output_type": "stream",
     "text": [
      "Son del mismo tipo de dato\n"
     ]
    }
   ],
   "source": [
    "var1 = '2'\n",
    "var2 = 'Hola'\n",
    "if (type(var1)==type(var2)):\n",
    "    print ('Son del mismo tipo de dato')\n",
    "else:\n",
    "    print ('No son del mismo tipo de dato')"
   ]
  },
  {
   "cell_type": "markdown",
   "metadata": {},
   "source": [
    "3) Para los valores enteros del 1 al 20, imprimir por pantalla si es par o impar"
   ]
  },
  {
   "cell_type": "code",
   "execution_count": 5,
   "metadata": {},
   "outputs": [
    {
     "name": "stdout",
     "output_type": "stream",
     "text": [
      "El número 1 es impar\n",
      "El número 2 es par\n",
      "El número 3 es impar\n",
      "El número 4 es par\n",
      "El número 5 es impar\n",
      "El número 6 es par\n",
      "El número 7 es impar\n",
      "El número 8 es par\n",
      "El número 9 es impar\n",
      "El número 10 es par\n",
      "El número 11 es impar\n",
      "El número 12 es par\n",
      "El número 13 es impar\n",
      "El número 14 es par\n",
      "El número 15 es impar\n",
      "El número 16 es par\n",
      "El número 17 es impar\n",
      "El número 18 es par\n",
      "El número 19 es impar\n",
      "El número 20 es par\n"
     ]
    }
   ],
   "source": [
    "for i in range(1,2  1):\n",
    "    if (i%2==0):\n",
    "        print('El número ' + str(i) + ' es par')\n",
    "    else:\n",
    "        print('El número ' + str(i) + ' es impar')"
   ]
  },
  {
   "cell_type": "markdown",
   "metadata": {},
   "source": [
    "4) En un ciclo for mostrar para los valores entre 0 y 5 el resultado de elevarlo a la potencia igual a 3"
   ]
  },
  {
   "cell_type": "code",
   "execution_count": 9,
   "metadata": {},
   "outputs": [
    {
     "name": "stdout",
     "output_type": "stream",
     "text": [
      "0 elevado a la 3 es igual a 0\n",
      "1 elevado a la 3 es igual a 1\n",
      "2 elevado a la 3 es igual a 8\n",
      "3 elevado a la 3 es igual a 27\n",
      "4 elevado a la 3 es igual a 64\n",
      "5 elevado a la 3 es igual a 125\n"
     ]
    }
   ],
   "source": [
    "for i in range(0,6):\n",
    "    #print(str(i) +' elevado a la 3 es igual a: ' + str(i**3))\n",
    "    print(f'{i} elevado a la 3 es igual a {i**3}')"
   ]
  },
  {
   "cell_type": "markdown",
   "metadata": {},
   "source": [
    "5) Crear una variable que contenga un número entero y realizar un ciclo for la misma cantidad de ciclos"
   ]
  },
  {
   "cell_type": "code",
   "execution_count": 10,
   "metadata": {},
   "outputs": [
    {
     "name": "stdout",
     "output_type": "stream",
     "text": [
      "1\n",
      "2\n"
     ]
    }
   ],
   "source": [
    "var4 = 2\n",
    "for i in range(0,var4):\n",
    "    print(i+1)"
   ]
  },
  {
   "cell_type": "markdown",
   "metadata": {},
   "source": [
    "6) Utilizar un ciclo while para realizar el factorial de un número guardado en una variable, sólo si la variable contiene un número entero mayor a 0"
   ]
  },
  {
   "cell_type": "code",
   "execution_count": 12,
   "metadata": {},
   "outputs": [
    {
     "name": "stdout",
     "output_type": "stream",
     "text": [
      "3628800\n"
     ]
    }
   ],
   "source": [
    "var5=10\n",
    "if (var5> 0):\n",
    "    i=1\n",
    "    fact=1\n",
    "    while (i <= var5):\n",
    "        fact=fact*i\n",
    "        i +=1\n",
    "print(fact)\n"
   ]
  },
  {
   "cell_type": "markdown",
   "metadata": {},
   "source": [
    "7) Crear un ciclo for dentro de un ciclo while"
   ]
  },
  {
   "cell_type": "code",
   "execution_count": 13,
   "metadata": {},
   "outputs": [
    {
     "name": "stdout",
     "output_type": "stream",
     "text": [
      "While 1 y For 1\n",
      "While 1 y For 2\n",
      "While 2 y For 1\n",
      "While 2 y For 2\n"
     ]
    }
   ],
   "source": [
    "n=1\n",
    "while (n<3):\n",
    "    for i in range(1,3):\n",
    "        print(f'While {n}','y',f'For {i}')\n",
    "    n+=1"
   ]
  },
  {
   "cell_type": "markdown",
   "metadata": {},
   "source": [
    "8) Crear un ciclo while dentro de un ciclo for"
   ]
  },
  {
   "cell_type": "code",
   "execution_count": 31,
   "metadata": {},
   "outputs": [
    {
     "name": "stdout",
     "output_type": "stream",
     "text": [
      "For 1 y while 1\n",
      "For 1 y while 2\n",
      "For 2 y while 1\n",
      "For 2 y while 2\n"
     ]
    }
   ],
   "source": [
    "for i in range(1,3):\n",
    "    n=1\n",
    "    while (n<3):\n",
    "        print(f'For {i}','y',f'while {n}')\n",
    "        n+=1"
   ]
  },
  {
   "cell_type": "markdown",
   "metadata": {},
   "source": [
    "9) Imprimir los números primos existentes entre 0 y 30"
   ]
  },
  {
   "cell_type": "code",
   "execution_count": 4,
   "metadata": {},
   "outputs": [
    {
     "name": "stdout",
     "output_type": "stream",
     "text": [
      "El número 1 es primo\n",
      "El número 2 es primo\n",
      "El número 3 es primo\n",
      "El número 5 es primo\n",
      "El número 7 es primo\n",
      "El número 11 es primo\n",
      "El número 13 es primo\n",
      "El número 17 es primo\n",
      "El número 19 es primo\n",
      "El número 23 es primo\n",
      "El número 29 es primo\n"
     ]
    }
   ],
   "source": [
    "esprimo=True\n",
    "for i in range(1,31):\n",
    "    for j in range(2,i):\n",
    "        if (i%j==0):\n",
    "            esprimo=False\n",
    "    if (esprimo):\n",
    "        print(f'El número {i} es primo')\n",
    "    else:    \n",
    "        esprimo=True\n"
   ]
  },
  {
   "cell_type": "markdown",
   "metadata": {},
   "source": [
    "10) ¿Se puede mejorar el proceso del punto 9? Utilizar las sentencias break y/ó continue para tal fin"
   ]
  },
  {
   "cell_type": "code",
   "execution_count": 53,
   "metadata": {},
   "outputs": [
    {
     "name": "stdout",
     "output_type": "stream",
     "text": [
      "El número 1 es primo\n",
      "El número 2 es primo\n",
      "El número 3 es primo\n",
      "El número 5 es primo\n",
      "El número 7 es primo\n",
      "El número 11 es primo\n",
      "El número 13 es primo\n",
      "El número 17 es primo\n",
      "El número 19 es primo\n",
      "El número 23 es primo\n",
      "El número 29 es primo\n"
     ]
    }
   ],
   "source": [
    "esprimo=True\n",
    "for i in range(1,31):\n",
    "    for j in range(2,i):\n",
    "        if (i%j==0):\n",
    "            esprimo=False\n",
    "            break\n",
    "    if (esprimo):\n",
    "        print(f'El número {i} es primo')\n",
    "    else:    \n",
    "        esprimo=True"
   ]
  },
  {
   "cell_type": "markdown",
   "metadata": {},
   "source": [
    "11) En los puntos 9 y 10, se diseño un código que encuentra números primos y además se lo optimizó. ¿Es posible saber en qué medida se optimizó?"
   ]
  },
  {
   "cell_type": "code",
   "execution_count": 56,
   "metadata": {},
   "outputs": [
    {
     "name": "stdout",
     "output_type": "stream",
     "text": [
      "El número 1 es primo\n",
      "El número 2 es primo\n",
      "El número 3 es primo\n",
      "El número 5 es primo\n",
      "El número 7 es primo\n",
      "El número 11 es primo\n",
      "El número 13 es primo\n",
      "El número 17 es primo\n",
      "El número 19 es primo\n",
      "El número 23 es primo\n",
      "El número 29 es primo\n",
      "Se imprimió los números primos en 406 ciclos\n",
      "\n",
      "\n",
      "El número 1 es primo\n",
      "El número 2 es primo\n",
      "El número 3 es primo\n",
      "El número 5 es primo\n",
      "El número 7 es primo\n",
      "El número 11 es primo\n",
      "El número 13 es primo\n",
      "El número 17 es primo\n",
      "El número 19 es primo\n",
      "El número 23 es primo\n",
      "El número 29 es primo\n",
      "Se imprimió los números primos en 116 ciclos\n"
     ]
    }
   ],
   "source": [
    "esprimo=True\n",
    "ciclos=0\n",
    "for i in range(1,31):\n",
    "    for j in range(2,i):\n",
    "        if (i%j==0):\n",
    "            esprimo=False\n",
    "        ciclos +=1    \n",
    "    if (esprimo):\n",
    "        print(f'El número {i} es primo')\n",
    "    else:    \n",
    "        esprimo=True\n",
    "print(f'Se imprimió los números primos en {ciclos} ciclos')\n",
    "print('')\n",
    "print('')\n",
    "\n",
    "esprimo=True\n",
    "ciclos=0\n",
    "for i in range(1,31):\n",
    "    for j in range(2,i):\n",
    "        if (i%j==0):\n",
    "            esprimo=False\n",
    "            break\n",
    "        ciclos+=1\n",
    "    if (esprimo):\n",
    "        print(f'El número {i} es primo')\n",
    "    else:    \n",
    "        esprimo=True\n",
    "print(f'Se imprimió los números primos en {ciclos} ciclos')"
   ]
  },
  {
   "cell_type": "markdown",
   "metadata": {},
   "source": [
    "12) Si la cantidad de números que se evalúa es mayor a treinta, esa optimización crece?"
   ]
  },
  {
   "cell_type": "code",
   "execution_count": 61,
   "metadata": {},
   "outputs": [
    {
     "name": "stdout",
     "output_type": "stream",
     "text": [
      "El número 1 es primo\n",
      "El número 2 es primo\n",
      "El número 3 es primo\n",
      "El número 5 es primo\n",
      "El número 7 es primo\n",
      "El número 11 es primo\n",
      "El número 13 es primo\n",
      "El número 17 es primo\n",
      "El número 19 es primo\n",
      "El número 23 es primo\n",
      "El número 29 es primo\n",
      "\n",
      "Los números primos del 1 al 30 se imprimieron sin BREAK en 406 ciclos\n",
      "\n",
      "Los números primos del 1 al 30 se imprimieron con BREAK en 116 ciclos\n"
     ]
    }
   ],
   "source": [
    "esprimo=True\n",
    "ciclos1=0\n",
    "for i in range(1,31):\n",
    "    for j in range(2,i):\n",
    "        if (i%j==0):\n",
    "            esprimo=False\n",
    "        ciclos1 +=1    \n",
    "    if (esprimo):\n",
    "        print(f'El número {i} es primo')\n",
    "    else:    \n",
    "        esprimo=True\n",
    "print('')\n",
    "\n",
    "esprimo=True\n",
    "ciclos=0\n",
    "for i in range(1,31):\n",
    "    for j in range(2,i):\n",
    "        if (i%j==0):\n",
    "            esprimo=False\n",
    "            break\n",
    "        ciclos+=1\n",
    "        esprimo=True\n",
    "print(f'Los números primos del 1 al 30 se imprimieron sin BREAK en {ciclos1} ciclos')\n",
    "print(f'Los números primos del 1 al 30 se imprimieron con BREAK en {ciclos} ciclos')"
   ]
  },
  {
   "cell_type": "markdown",
   "metadata": {},
   "source": [
    "13) Aplicando continue, armar un ciclo while que solo imprima los valores divisibles por 12, dentro del rango de números de 100 a 300"
   ]
  },
  {
   "cell_type": "code",
   "execution_count": 67,
   "metadata": {},
   "outputs": [
    {
     "name": "stdout",
     "output_type": "stream",
     "text": [
      "108\n",
      "120\n",
      "132\n",
      "144\n",
      "156\n",
      "168\n",
      "180\n",
      "192\n",
      "204\n",
      "216\n",
      "228\n",
      "240\n",
      "252\n",
      "264\n",
      "276\n",
      "288\n",
      "300\n"
     ]
    }
   ],
   "source": [
    "num = 99\n",
    "while (num < 301):\n",
    "    num+=1\n",
    "    if(num%12!=0):\n",
    "        continue\n",
    "    print (num)\n",
    "        "
   ]
  },
  {
   "cell_type": "markdown",
   "metadata": {},
   "source": [
    "14) Utilizar la función **input()** que permite hacer ingresos por teclado, para encontrar números primos y dar la opción al usario de buscar el siguiente"
   ]
  },
  {
   "cell_type": "code",
   "execution_count": 11,
   "metadata": {},
   "outputs": [
    {
     "name": "stdout",
     "output_type": "stream",
     "text": [
      "El número 13 es primo\n"
     ]
    }
   ],
   "source": [
    "esprimo=True\n",
    "num = int (input ('Digite un número para saber si es primo: ' ))\n",
    "for i in range(2,num):\n",
    "    if (num%i==0):\n",
    "            esprimo=False\n",
    "            break\n",
    "if (esprimo):\n",
    "    print(f'El número {num} es primo')\n",
    "else:\n",
    "    print(f'El número {num} no es primo')\n",
    "    "
   ]
  },
  {
   "cell_type": "markdown",
   "metadata": {},
   "source": [
    "15) Crear un ciclo while que encuentre dentro del rango de 100 a 300 el primer número divisible por 3 y además múltiplo de 6"
   ]
  },
  {
   "cell_type": "code",
   "execution_count": 14,
   "metadata": {},
   "outputs": [
    {
     "name": "stdout",
     "output_type": "stream",
     "text": [
      "El número es:  102\n"
     ]
    }
   ],
   "source": [
    "n = 100\n",
    "while(n<=300):\n",
    "    if (n % 6 == 0):\n",
    "        print('El número es: ', str(n))\n",
    "        break\n",
    "    n += 1"
   ]
  }
 ],
 "metadata": {
  "kernelspec": {
   "display_name": "Python 3.11.0 64-bit",
   "language": "python",
   "name": "python3"
  },
  "language_info": {
   "codemirror_mode": {
    "name": "ipython",
    "version": 3
   },
   "file_extension": ".py",
   "mimetype": "text/x-python",
   "name": "python",
   "nbconvert_exporter": "python",
   "pygments_lexer": "ipython3",
   "version": "3.11.0"
  },
  "orig_nbformat": 4,
  "vscode": {
   "interpreter": {
    "hash": "0930d1f70fa6c79e4fceff05864c35c387058b894932fbf141f7c0a5df4dfe27"
   }
  }
 },
 "nbformat": 4,
 "nbformat_minor": 2
}
